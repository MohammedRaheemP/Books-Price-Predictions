{
 "cells": [
  {
   "cell_type": "code",
   "execution_count": 1,
   "metadata": {},
   "outputs": [],
   "source": [
    "import pandas as pd\n",
    "import numpy as np\n",
    "import matplotlib.pyplot as plt"
   ]
  },
  {
   "cell_type": "code",
   "execution_count": 2,
   "metadata": {},
   "outputs": [],
   "source": [
    "train=pd.read_excel('Data_Train.xlsx')\n",
    "test=pd.read_excel('Data_Test.xlsx')"
   ]
  },
  {
   "cell_type": "code",
   "execution_count": 5,
   "metadata": {},
   "outputs": [],
   "source": [
    "combined=pd.concat([train,test],sort=False)"
   ]
  },
  {
   "cell_type": "code",
   "execution_count": 7,
   "metadata": {},
   "outputs": [
    {
     "data": {
      "text/html": [
       "<div>\n",
       "<style scoped>\n",
       "    .dataframe tbody tr th:only-of-type {\n",
       "        vertical-align: middle;\n",
       "    }\n",
       "\n",
       "    .dataframe tbody tr th {\n",
       "        vertical-align: top;\n",
       "    }\n",
       "\n",
       "    .dataframe thead th {\n",
       "        text-align: right;\n",
       "    }\n",
       "</style>\n",
       "<table border=\"1\" class=\"dataframe\">\n",
       "  <thead>\n",
       "    <tr style=\"text-align: right;\">\n",
       "      <th></th>\n",
       "      <th>Title</th>\n",
       "      <th>Author</th>\n",
       "      <th>Edition</th>\n",
       "      <th>Reviews</th>\n",
       "      <th>Ratings</th>\n",
       "      <th>Synopsis</th>\n",
       "      <th>Genre</th>\n",
       "      <th>BookCategory</th>\n",
       "      <th>Price</th>\n",
       "    </tr>\n",
       "  </thead>\n",
       "  <tbody>\n",
       "    <tr>\n",
       "      <td>1555</td>\n",
       "      <td>100 Things Every Designer Needs to Know About ...</td>\n",
       "      <td>Susan Weinschenk</td>\n",
       "      <td>Paperback,– 14 Apr 2011</td>\n",
       "      <td>5.0 out of 5 stars</td>\n",
       "      <td>4 customer reviews</td>\n",
       "      <td>We design to elicit responses from people. We ...</td>\n",
       "      <td>Design</td>\n",
       "      <td>Computing, Internet &amp; Digital Media</td>\n",
       "      <td>NaN</td>\n",
       "    </tr>\n",
       "    <tr>\n",
       "      <td>1556</td>\n",
       "      <td>Modern Letter Writing Course: Personal, Busine...</td>\n",
       "      <td>ARUN SAGAR</td>\n",
       "      <td>Paperback,– 8 May 2013</td>\n",
       "      <td>3.6 out of 5 stars</td>\n",
       "      <td>13 customer reviews</td>\n",
       "      <td>A 30-day course to write simple, sharp and att...</td>\n",
       "      <td>Children's Reference (Books)</td>\n",
       "      <td>Biographies, Diaries &amp; True Accounts</td>\n",
       "      <td>NaN</td>\n",
       "    </tr>\n",
       "    <tr>\n",
       "      <td>1557</td>\n",
       "      <td>The Kite Runner Graphic Novel</td>\n",
       "      <td>Khaled Hosseini</td>\n",
       "      <td>Paperback,– 6 Sep 2011</td>\n",
       "      <td>4.0 out of 5 stars</td>\n",
       "      <td>5 customer reviews</td>\n",
       "      <td>The perennial bestseller-now available as a se...</td>\n",
       "      <td>Humour (Books)</td>\n",
       "      <td>Humour</td>\n",
       "      <td>NaN</td>\n",
       "    </tr>\n",
       "    <tr>\n",
       "      <td>1558</td>\n",
       "      <td>Panzer Leader (Penguin World War II Collection)</td>\n",
       "      <td>Heinz Guderian</td>\n",
       "      <td>Paperback,– 22 Sep 2009</td>\n",
       "      <td>3.5 out of 5 stars</td>\n",
       "      <td>3 customer reviews</td>\n",
       "      <td>Heinz Guderian - master of the Blitzkrieg and ...</td>\n",
       "      <td>United States History</td>\n",
       "      <td>Biographies, Diaries &amp; True Accounts</td>\n",
       "      <td>NaN</td>\n",
       "    </tr>\n",
       "    <tr>\n",
       "      <td>1559</td>\n",
       "      <td>Complete Spanish Step-by-Step</td>\n",
       "      <td>Barbara Bregstein</td>\n",
       "      <td>Paperback,– 16 Sep 2016</td>\n",
       "      <td>4.5 out of 5 stars</td>\n",
       "      <td>2 customer reviews</td>\n",
       "      <td>Learn Spanish with the most convenient and eff...</td>\n",
       "      <td>Dictionaries</td>\n",
       "      <td>Language, Linguistics &amp; Writing</td>\n",
       "      <td>NaN</td>\n",
       "    </tr>\n",
       "  </tbody>\n",
       "</table>\n",
       "</div>"
      ],
      "text/plain": [
       "                                                  Title             Author  \\\n",
       "1555  100 Things Every Designer Needs to Know About ...   Susan Weinschenk   \n",
       "1556  Modern Letter Writing Course: Personal, Busine...         ARUN SAGAR   \n",
       "1557                      The Kite Runner Graphic Novel    Khaled Hosseini   \n",
       "1558    Panzer Leader (Penguin World War II Collection)     Heinz Guderian   \n",
       "1559                      Complete Spanish Step-by-Step  Barbara Bregstein   \n",
       "\n",
       "                      Edition             Reviews              Ratings  \\\n",
       "1555  Paperback,– 14 Apr 2011  5.0 out of 5 stars   4 customer reviews   \n",
       "1556   Paperback,– 8 May 2013  3.6 out of 5 stars  13 customer reviews   \n",
       "1557   Paperback,– 6 Sep 2011  4.0 out of 5 stars   5 customer reviews   \n",
       "1558  Paperback,– 22 Sep 2009  3.5 out of 5 stars   3 customer reviews   \n",
       "1559  Paperback,– 16 Sep 2016  4.5 out of 5 stars   2 customer reviews   \n",
       "\n",
       "                                               Synopsis  \\\n",
       "1555  We design to elicit responses from people. We ...   \n",
       "1556  A 30-day course to write simple, sharp and att...   \n",
       "1557  The perennial bestseller-now available as a se...   \n",
       "1558  Heinz Guderian - master of the Blitzkrieg and ...   \n",
       "1559  Learn Spanish with the most convenient and eff...   \n",
       "\n",
       "                             Genre                          BookCategory  \\\n",
       "1555                        Design   Computing, Internet & Digital Media   \n",
       "1556  Children's Reference (Books)  Biographies, Diaries & True Accounts   \n",
       "1557                Humour (Books)                                Humour   \n",
       "1558         United States History  Biographies, Diaries & True Accounts   \n",
       "1559                  Dictionaries       Language, Linguistics & Writing   \n",
       "\n",
       "      Price  \n",
       "1555    NaN  \n",
       "1556    NaN  \n",
       "1557    NaN  \n",
       "1558    NaN  \n",
       "1559    NaN  "
      ]
     },
     "execution_count": 7,
     "metadata": {},
     "output_type": "execute_result"
    }
   ],
   "source": [
    "combined.tail()"
   ]
  },
  {
   "cell_type": "code",
   "execution_count": null,
   "metadata": {},
   "outputs": [],
   "source": [
    "combined"
   ]
  }
 ],
 "metadata": {
  "kernelspec": {
   "display_name": "Python 3",
   "language": "python",
   "name": "python3"
  },
  "language_info": {
   "codemirror_mode": {
    "name": "ipython",
    "version": 3
   },
   "file_extension": ".py",
   "mimetype": "text/x-python",
   "name": "python",
   "nbconvert_exporter": "python",
   "pygments_lexer": "ipython3",
   "version": "3.7.4"
  }
 },
 "nbformat": 4,
 "nbformat_minor": 2
}
