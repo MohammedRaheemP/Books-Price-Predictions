{
 "cells": [
  {
   "cell_type": "code",
   "execution_count": null,
   "metadata": {
    "colab": {},
    "colab_type": "code",
    "id": "A2jGog9WqBop"
   },
   "outputs": [],
   "source": [
    "import numpy as np\n",
    "import pandas as pd\n",
    "from collections import Counter\n",
    "from matplotlib import pyplot as plt\n",
    "\n",
    "import warnings\n",
    "warnings.filterwarnings('ignore')"
   ]
  },
  {
   "cell_type": "markdown",
   "metadata": {},
   "source": [
    "**Importing Data**"
   ]
  },
  {
   "cell_type": "code",
   "execution_count": null,
   "metadata": {
    "colab": {},
    "colab_type": "code",
    "id": "Rnsv7SYNqfqp"
   },
   "outputs": [],
   "source": [
    "train = pd.read_excel('Data_Train.xlsx')\n",
    "test = pd.read_excel('Data_Test.xlsx')\n",
    "train.shape"
   ]
  },
  {
   "cell_type": "code",
   "execution_count": null,
   "metadata": {},
   "outputs": [],
   "source": [
    "test.shape"
   ]
  },
  {
   "cell_type": "raw",
   "metadata": {},
   "source": [
    "Title -> Count Vectorizer\n",
    "Author -> Label Encoding , merge the mispelled authors mapping using dictionary\n",
    "Edition -> split, get type of Edition, Edition Date\n",
    "Reviews -> numerical values to be extracted\n",
    "Ratings -> extract number no of ratings \n",
    "Synopsis -> Count Vectorizer , try 10 percentile top words.\n",
    "Genre -> split and Label Encode\n",
    "BookCategory ->Labelencoding, as only 11 we can try one-hot encoding\n",
    "\n",
    "\n"
   ]
  },
  {
   "cell_type": "code",
   "execution_count": null,
   "metadata": {},
   "outputs": [],
   "source": [
    "train.BookCategory.value_counts()"
   ]
  },
  {
   "cell_type": "code",
   "execution_count": null,
   "metadata": {},
   "outputs": [],
   "source": [
    "train.Author.sort_values()"
   ]
  },
  {
   "cell_type": "code",
   "execution_count": null,
   "metadata": {},
   "outputs": [],
   "source": [
    "train.Reviews[1].split()[0]"
   ]
  },
  {
   "cell_type": "code",
   "execution_count": null,
   "metadata": {
    "colab": {
     "base_uri": "https://localhost:8080/",
     "height": 272
    },
    "colab_type": "code",
    "executionInfo": {
     "elapsed": 11368,
     "status": "ok",
     "timestamp": 1572169250508,
     "user": {
      "displayName": "Himanshu Saini",
      "photoUrl": "https://lh3.googleusercontent.com/a-/AAuE7mAjE9mZ2NzcI5uuLrEuZ1SNzd5Vp87FTCFGA5aYcwg=s64",
      "userId": "08483872662102224854"
     },
     "user_tz": -330
    },
    "id": "3xoWKjGcrCgx",
    "outputId": "e1f7118d-aa06-4d06-9ed4-60bdecde6256"
   },
   "outputs": [],
   "source": [
    "train.head()"
   ]
  },
  {
   "cell_type": "markdown",
   "metadata": {},
   "source": [
    "**Combining Dataset(Train + Test)** - _for cleaning and feature engineering_"
   ]
  },
  {
   "cell_type": "code",
   "execution_count": null,
   "metadata": {},
   "outputs": [],
   "source": [
    "train.Price.isnull().sum()"
   ]
  },
  {
   "cell_type": "code",
   "execution_count": null,
   "metadata": {},
   "outputs": [],
   "source": [
    "#train.drop_duplicates(['Title','Author','Edition'],inplace=True)"
   ]
  },
  {
   "cell_type": "code",
   "execution_count": null,
   "metadata": {},
   "outputs": [],
   "source": [
    "#train[train.duplicated(['Title','Author','Edition'],keep=False)].sort_values('Title')"
   ]
  },
  {
   "cell_type": "code",
   "execution_count": null,
   "metadata": {},
   "outputs": [],
   "source": []
  },
  {
   "cell_type": "code",
   "execution_count": null,
   "metadata": {},
   "outputs": [],
   "source": [
    "train = train[train.Price<10000]"
   ]
  },
  {
   "cell_type": "code",
   "execution_count": null,
   "metadata": {
    "colab": {},
    "colab_type": "code",
    "id": "l2cxEmRw939g"
   },
   "outputs": [],
   "source": [
    "combined = pd.concat([train, test], sort=False)\n",
    "combined.reset_index(drop=True, inplace=True)\n",
    "combined.tail()"
   ]
  },
  {
   "cell_type": "code",
   "execution_count": null,
   "metadata": {},
   "outputs": [],
   "source": [
    "combined.Author.value_counts().count()"
   ]
  },
  {
   "cell_type": "code",
   "execution_count": null,
   "metadata": {},
   "outputs": [],
   "source": [
    "pd.DataFrame(combined.Author.value_counts()).sort_index()"
   ]
  },
  {
   "cell_type": "code",
   "execution_count": null,
   "metadata": {},
   "outputs": [],
   "source": [
    "from collections import Counter\n",
    "Counter(combined.Author).most_common()"
   ]
  },
  {
   "cell_type": "code",
   "execution_count": null,
   "metadata": {},
   "outputs": [],
   "source": [
    "combined.shape"
   ]
  },
  {
   "cell_type": "markdown",
   "metadata": {
    "colab_type": "text",
    "id": "JHVL5no0sriG"
   },
   "source": [
    "# Feature Cleaning & Extraction"
   ]
  },
  {
   "cell_type": "code",
   "execution_count": null,
   "metadata": {
    "colab": {},
    "colab_type": "code",
    "id": "735_cm_xyjes"
   },
   "outputs": [],
   "source": [
    "combined['Title'] = combined['Title'].str.lower()"
   ]
  },
  {
   "cell_type": "markdown",
   "metadata": {
    "colab_type": "text",
    "id": "SCM-zWL2ZprT"
   },
   "source": [
    "\n",
    "**Splitting Edition** - *to Edition Binding type and other feature*"
   ]
  },
  {
   "cell_type": "code",
   "execution_count": null,
   "metadata": {},
   "outputs": [],
   "source": [
    "combined.Edition.value_counts()"
   ]
  },
  {
   "cell_type": "markdown",
   "metadata": {
    "colab_type": "text",
    "id": "GY8glWH3aA5j"
   },
   "source": [
    "**Binning Edition Binding** - *combined edition binding ( with occurence < 9 --> \"other\" )*"
   ]
  },
  {
   "cell_type": "code",
   "execution_count": null,
   "metadata": {},
   "outputs": [],
   "source": [
    "Counter(combined.Edition).most_common()"
   ]
  },
  {
   "cell_type": "code",
   "execution_count": null,
   "metadata": {},
   "outputs": [],
   "source": [
    "for ed in combined['Edition']:\n",
    "    if ed.find(\"Hardcover\")!=-1: print(ed)\n",
    "#train['Edition'][3].split(',')"
   ]
  },
  {
   "cell_type": "code",
   "execution_count": null,
   "metadata": {},
   "outputs": [],
   "source": [
    "for ed in combined['Edition']:\n",
    "    if ed.find(\"Audiobook\")!=-1: print(ed)\n",
    "#train['Edition'][3].split(',')"
   ]
  },
  {
   "cell_type": "code",
   "execution_count": null,
   "metadata": {},
   "outputs": [],
   "source": [
    "combined.head(2)"
   ]
  },
  {
   "cell_type": "code",
   "execution_count": null,
   "metadata": {},
   "outputs": [],
   "source": [
    "combined[['EditionBinding','EditionType1']] = combined['Edition'].str.split(',– ',expand=True)\n",
    "combined.head(2)"
   ]
  },
  {
   "cell_type": "code",
   "execution_count": null,
   "metadata": {},
   "outputs": [],
   "source": [
    "combined.EditionType1.value_counts()"
   ]
  },
  {
   "cell_type": "code",
   "execution_count": null,
   "metadata": {},
   "outputs": [],
   "source": [
    "combined['EditionBinding'].value_counts()"
   ]
  },
  {
   "cell_type": "code",
   "execution_count": null,
   "metadata": {
    "colab": {},
    "colab_type": "code",
    "id": "kRuUs7z0mgm9"
   },
   "outputs": [],
   "source": [
    "edition_binding_dict = combined['EditionBinding'].value_counts().to_dict()\n",
    "\n",
    "edition_binding_dict"
   ]
  },
  {
   "cell_type": "code",
   "execution_count": null,
   "metadata": {},
   "outputs": [],
   "source": [
    "combined['EditionBinding'] = combined['EditionBinding'].apply(lambda x: (x if edition_binding_dict[x] > 9 else 'other'))\n"
   ]
  },
  {
   "cell_type": "code",
   "execution_count": null,
   "metadata": {},
   "outputs": [],
   "source": [
    "combined['EditionBinding'].value_counts()"
   ]
  },
  {
   "cell_type": "markdown",
   "metadata": {
    "colab_type": "text",
    "id": "wiUiYRc5aKfs"
   },
   "source": [
    "**Splitting Edition remainder part** - *extracting edition date and edition type*"
   ]
  },
  {
   "cell_type": "code",
   "execution_count": null,
   "metadata": {},
   "outputs": [],
   "source": [
    "Counter(combined.EditionType1).most_common()"
   ]
  },
  {
   "cell_type": "code",
   "execution_count": null,
   "metadata": {
    "colab": {},
    "colab_type": "code",
    "id": "nN5uLDsvz2_l"
   },
   "outputs": [],
   "source": [
    "def split_edition_1(x):\n",
    "    j_arr = []\n",
    "    date = ''\n",
    "\n",
    "    for j in x.split(', '):\n",
    "        if not any(k.isnumeric() for k in j):\n",
    "            j_arr.append(j.strip())\n",
    "        else:\n",
    "            date = j\n",
    "\n",
    "    if ''.join(j_arr) != '':\n",
    "        ed = ', '.join(j_arr)\n",
    "    else:\n",
    "        ed = 'other'\n",
    "\n",
    "    if ed != 'Import' and ed != 'Illustrated' and ed \\\n",
    "        != 'Special Edition' and ed != 'Unabridged' and ed \\\n",
    "        != 'Student Edition' and ed != 'Box set' and ed \\\n",
    "        != 'International Edition' and ed != 'Abridged':\n",
    "        ed_ret = 'other'\n",
    "    else:\n",
    "        ed_ret = ed\n",
    "\n",
    "    return (ed_ret, date)"
   ]
  },
  {
   "cell_type": "code",
   "execution_count": null,
   "metadata": {
    "colab": {},
    "colab_type": "code",
    "id": "jQfw294V4kAp"
   },
   "outputs": [],
   "source": [
    "combined['EditionType'],combined['EditionDate'] = \\\n",
    "    zip(*combined['EditionType1'].apply(split_edition_1))"
   ]
  },
  {
   "cell_type": "code",
   "execution_count": null,
   "metadata": {},
   "outputs": [],
   "source": [
    "combined.head(2)"
   ]
  },
  {
   "cell_type": "markdown",
   "metadata": {
    "colab_type": "text",
    "id": "t27P1c1UaNx9"
   },
   "source": [
    "**Splitting Edition date** - *extracting Month & Year*"
   ]
  },
  {
   "cell_type": "code",
   "execution_count": null,
   "metadata": {
    "colab": {},
    "colab_type": "code",
    "id": "wzn0gZ7cz5FL"
   },
   "outputs": [],
   "source": [
    "def split_edition_date(x):\n",
    "    (mon, year) = ('', '')\n",
    "    if len(x.split()) == 1:\n",
    "        year = int(x)\n",
    "    elif len(x.split()) == 2:\n",
    "        mon = x.split()[0]\n",
    "        year = int(x.split()[1])\n",
    "    elif len(x.split()) == 3:\n",
    "        mon = x.split()[1]\n",
    "        year = int(x.split()[2])\n",
    "    return (mon, year)"
   ]
  },
  {
   "cell_type": "code",
   "execution_count": null,
   "metadata": {
    "colab": {},
    "colab_type": "code",
    "id": "CsUCG9wn5FQl"
   },
   "outputs": [],
   "source": [
    "combined['EditionMon'], combined['EditionYear'] = \\\n",
    "    zip(*combined['EditionDate'].apply(split_edition_date))"
   ]
  },
  {
   "cell_type": "code",
   "execution_count": null,
   "metadata": {},
   "outputs": [],
   "source": [
    "combined.head(2)"
   ]
  },
  {
   "cell_type": "markdown",
   "metadata": {
    "colab_type": "text",
    "id": "cZIQ1X09ad8t"
   },
   "source": [
    "**Binning Month** - *combining quaterly*"
   ]
  },
  {
   "cell_type": "code",
   "execution_count": null,
   "metadata": {
    "colab": {},
    "colab_type": "code",
    "id": "haaOc80IMHPp"
   },
   "outputs": [],
   "source": [
    "def bin_edition_mon(x):\n",
    "    x = x.lower()\n",
    "    if x == 'jan' or x == 'feb' or x == 'mar':\n",
    "        return 'first'\n",
    "    elif x == 'apr' or x == 'may' or x == 'jun':\n",
    "        return 'second'\n",
    "    elif x == 'jul' or x == 'aug' or x == 'sep':\n",
    "        return 'third'\n",
    "    elif x == '':\n",
    "        return ''\n",
    "    else:\n",
    "        return 'fourth'"
   ]
  },
  {
   "cell_type": "markdown",
   "metadata": {},
   "source": [
    "*making columns to mark null values*"
   ]
  },
  {
   "cell_type": "code",
   "execution_count": null,
   "metadata": {
    "colab": {},
    "colab_type": "code",
    "id": "aKMVQ5Yx7OYQ"
   },
   "outputs": [],
   "source": [
    "combined['EditionMon'] = combined['EditionMon'].apply(bin_edition_mon)\n",
    "combined['Mon_null'] = combined['EditionMon'].apply(lambda x: \\\n",
    "        ('not_null' if x != '' else 'null'))\n",
    "combined['Year_null'] = combined['EditionYear'].apply(lambda x: \\\n",
    "        ('not_null' if x != '' else 'null'))"
   ]
  },
  {
   "cell_type": "code",
   "execution_count": null,
   "metadata": {},
   "outputs": [],
   "source": [
    "combined.head(2)"
   ]
  },
  {
   "cell_type": "markdown",
   "metadata": {},
   "source": [
    "**Imputing Month and Year** - *by most common values*"
   ]
  },
  {
   "cell_type": "code",
   "execution_count": null,
   "metadata": {},
   "outputs": [],
   "source": [
    "combined[combined.EditionMon=='']"
   ]
  },
  {
   "cell_type": "code",
   "execution_count": null,
   "metadata": {
    "colab": {},
    "colab_type": "code",
    "id": "Nk1hQqmeqNt7"
   },
   "outputs": [],
   "source": [
    "combined['EditionMon'].replace('', combined['EditionMon'].mode()[0],\n",
    "                               inplace=True)\n",
    "combined['EditionYear'].replace('', combined['EditionYear'].mode()[0],\n",
    "                                inplace=True)"
   ]
  },
  {
   "cell_type": "code",
   "execution_count": null,
   "metadata": {},
   "outputs": [],
   "source": [
    "combined[combined.EditionMon=='']"
   ]
  },
  {
   "cell_type": "code",
   "execution_count": null,
   "metadata": {},
   "outputs": [],
   "source": [
    "combined.head()"
   ]
  },
  {
   "cell_type": "code",
   "execution_count": null,
   "metadata": {},
   "outputs": [],
   "source": []
  },
  {
   "cell_type": "markdown",
   "metadata": {
    "colab_type": "text",
    "id": "T-D-4pDiawSG"
   },
   "source": [
    "**Extracting Reviews & Ratings** - *converting to numerical data*"
   ]
  },
  {
   "cell_type": "code",
   "execution_count": null,
   "metadata": {},
   "outputs": [],
   "source": [
    "Counter(combined.Reviews).most_common()"
   ]
  },
  {
   "cell_type": "code",
   "execution_count": null,
   "metadata": {
    "colab": {},
    "colab_type": "code",
    "id": "oPCsDZYn7w-m"
   },
   "outputs": [],
   "source": [
    "combined['Reviews'] = combined['Reviews'].apply(lambda x: float(x.split()[0]))"
   ]
  },
  {
   "cell_type": "code",
   "execution_count": null,
   "metadata": {},
   "outputs": [],
   "source": [
    "Counter(combined.Ratings).most_common()"
   ]
  },
  {
   "cell_type": "code",
   "execution_count": null,
   "metadata": {
    "colab": {},
    "colab_type": "code",
    "id": "WcJxbDPJ8FVY"
   },
   "outputs": [],
   "source": [
    "combined['Ratings'] = combined['Ratings'].apply(lambda x: int(''.join(x.split()[0].split(','))))"
   ]
  },
  {
   "cell_type": "code",
   "execution_count": null,
   "metadata": {},
   "outputs": [],
   "source": [
    "combined.head(2)"
   ]
  },
  {
   "cell_type": "markdown",
   "metadata": {
    "colab_type": "text",
    "id": "TBgm58278fCd"
   },
   "source": [
    "# Feature Engineering \n",
    "*Engineering new features*"
   ]
  },
  {
   "cell_type": "markdown",
   "metadata": {},
   "source": [
    "**Ratings and Reviews Ratio**"
   ]
  },
  {
   "cell_type": "code",
   "execution_count": null,
   "metadata": {
    "colab": {},
    "colab_type": "code",
    "id": "eW93WtVdURNG"
   },
   "outputs": [],
   "source": [
    "combined['RatingPerReview'] = round(combined['Ratings']/combined['Reviews'], 2)"
   ]
  },
  {
   "cell_type": "code",
   "execution_count": null,
   "metadata": {},
   "outputs": [],
   "source": [
    "combined.Ratings.describe()"
   ]
  },
  {
   "cell_type": "code",
   "execution_count": null,
   "metadata": {},
   "outputs": [],
   "source": [
    "%matplotlib inline\n",
    "combined.Ratings.plot(kind='box');"
   ]
  },
  {
   "cell_type": "code",
   "execution_count": null,
   "metadata": {},
   "outputs": [],
   "source": []
  },
  {
   "cell_type": "code",
   "execution_count": null,
   "metadata": {},
   "outputs": [],
   "source": [
    "combined[combined.Ratings>2500]"
   ]
  },
  {
   "cell_type": "code",
   "execution_count": null,
   "metadata": {},
   "outputs": [],
   "source": [
    "combined.head(2)"
   ]
  },
  {
   "cell_type": "markdown",
   "metadata": {},
   "source": [
    "**Impact of Book Age on Reviews**"
   ]
  },
  {
   "cell_type": "code",
   "execution_count": null,
   "metadata": {
    "colab": {},
    "colab_type": "code",
    "id": "3yLrTPEh9ikb"
   },
   "outputs": [],
   "source": [
    "combined['Review_Year_Impact'] = combined['Reviews'] * combined['EditionYear'].apply(lambda x: 2019 - x)"
   ]
  },
  {
   "cell_type": "markdown",
   "metadata": {},
   "source": [
    "**Author Name Cleaning**"
   ]
  },
  {
   "cell_type": "code",
   "execution_count": null,
   "metadata": {},
   "outputs": [],
   "source": [
    "combined.Author.head(100)"
   ]
  },
  {
   "cell_type": "code",
   "execution_count": null,
   "metadata": {
    "colab": {},
    "colab_type": "code",
    "id": "79FsrRJKwv2l"
   },
   "outputs": [],
   "source": [
    "author_replacements = {' & ':', ',\"0\":\"other\",\"2\":\"other\",'A. P. J. Abdul Kalam':'A.P.J. Abdul Kalam','APJ Abdul Kalam':'A.P.J. Abdul Kalam','Agrawal P. K.': 'Agrawal P.K','Ajay K Pandey': 'Ajay K. Pandey','Aravinda Anantharaman': 'Aravinda Anatharaman','Arthur Conan Doyle': 'Sir Arthur Conan Doyle','B A Paris': 'B. A. Paris','E L James': 'E. L. James','E.L. James':'E. L. James','Eliyahu M Goldratt': 'Eliyahu M. Goldratt','Ernest Hemingway': 'Ernest Hemmingway','Frank Miler': 'Frank Miller','Fyodor Dostoevsky': 'Fyodor Dostoyevsky','George R R Martin': 'George R. R. Martin','George R.R. Martin':'George R. R. Martin','H. G. Wells': 'H.G. Wells','Johann Wolfgang Von Goethe': 'Johann Wolfgang von Goethe','John Le Carré': 'John le Carré','Judith McNaught': 'Judith Mcnaught','Keith Giffen': 'Kieth Giffen','Ken Hultgen': 'Ken Hultgren','Kentaro Miura': 'Kenturo Miura','Kohei Horikoshi': 'Kouhei Horikoshi','M.K Gandhi': 'M.K. Gandhi','Matthew K Manning': 'Matthew Manning','Michael Crichton': 'Micheal Crichton','N.K Aggarwala': 'N.K. Aggarwala','Oxford University Press (India)': 'Oxford University Press India','P D James': 'P. D. James','Paramahansa Yogananda': 'Paramhansa Yogananda','R K Laxman': 'R. K. Laxman','R.K. Laxman': 'R. K. Laxman','R. M. Lala': 'R.M. Lala','Raina Telgemaeier': 'Raina Telgemeier','Rajaraman': 'Rajaraman V','Rajiv M. Vijayakar': 'Rajiv Vijayakar','Ramachandra Guha': 'Ramchandra Guha','Rene Goscinny': 'René Goscinny','Richard P Feynman': 'Richard P. Feynman','S Giridhar': 'S. Giridhar','S Hussain Zaidi': 'S. Hussain Zaidi','S. A. Chakraborty': 'S. Chakraborty','Santosh Kumar K': 'Santosh Kumar K.',\"S.C. Gupta\" : \"S. C. Gupta\",'Shiv Prasad Koirala': 'Shivprasad Koirala','Shivaprasad Koirala': 'Shivprasad Koirala','Simone De Beauvoir': 'Simone de Beauvoir','Sir Arthur Conan Doyle': 'Arthur Conan Doyle',\"Terry O' Brien\": \"Terry O'Brien\",'Thich Nhat Hahn': 'Thich Nhat Hanh','Trinity College Lond': 'Trinity College London',\"Trinity College London Press\" : \"Trinity College London\",'Ursula K. Le Guin': 'Ursula Le Guin','Willard A Palmer': 'Willard A. Palmer','Willard Palmer': 'Willard A. Palmer','William Strunk Jr': 'William Strunk Jr.','Yashavant Kanetakr': 'Yashavant Kanetkar','Yashavant P. Kanetkar': 'Yashavant Kanetkar','Yashwant Kanetkar': 'Yashavant Kanetkar','et al': 'et al.',' et al': 'et al.','Peter Clutterbuck': ' Peter Clutterbuck','Scholastic': 'Scholastic ','Ullekh N. P.': 'Ullekh N.P.','Shalini Jain': 'Dr. Shalini Jain','Kevin Mitnick': 'Kevin D. Mitnick'}\n",
    "combined['Author'] = combined['Author'].replace(author_replacements,regex=True)"
   ]
  },
  {
   "cell_type": "markdown",
   "metadata": {},
   "source": [
    "**No. of Authors of a book**"
   ]
  },
  {
   "cell_type": "code",
   "execution_count": null,
   "metadata": {
    "colab": {},
    "colab_type": "code",
    "id": "ZnB51hhxb_Wf"
   },
   "outputs": [],
   "source": [
    "combined['Authors_count'] = combined['Author'].apply(lambda x: \\\n",
    "        len(x.split(',')))"
   ]
  },
  {
   "cell_type": "markdown",
   "metadata": {},
   "source": [
    "**Average Author reviews**"
   ]
  },
  {
   "cell_type": "code",
   "execution_count": null,
   "metadata": {
    "colab": {},
    "colab_type": "code",
    "id": "E3mdsXdJJOlw"
   },
   "outputs": [],
   "source": [
    "author_avg_review_dict = round(combined[combined.Authors_count== 1]\n",
    "                               .groupby('Author',sort=False)['Reviews']\n",
    "                               .mean(), 2).to_dict()\n",
    "author_avg_review_dict"
   ]
  },
  {
   "cell_type": "code",
   "execution_count": null,
   "metadata": {
    "colab": {},
    "colab_type": "code",
    "id": "DbUo4gH1JOMK"
   },
   "outputs": [],
   "source": [
    "def check_author(x):\n",
    "    reviews = []\n",
    "    for name in x.split(', '):\n",
    "        try:\n",
    "            reviews.append(author_avg_review_dict[name])\n",
    "        except:\n",
    "            pass\n",
    "    if len(reviews) != 0:\n",
    "        return sum(reviews) / len(reviews)\n",
    "    else:\n",
    "        return ''"
   ]
  },
  {
   "cell_type": "code",
   "execution_count": null,
   "metadata": {
    "colab": {},
    "colab_type": "code",
    "id": "NgKCw_0QHy8R"
   },
   "outputs": [],
   "source": [
    "combined['AuthorAvgReview'] = combined['Author'].apply(check_author)\n",
    "combined['AuthorAvgReview'] = combined[['Reviews', 'AuthorAvgReview']]\\\n",
    "        .apply(lambda x: (x[0] if x[1] == '' else x[1]), axis=1)"
   ]
  },
  {
   "cell_type": "markdown",
   "metadata": {},
   "source": [
    "**No. of Books from an Author**"
   ]
  },
  {
   "cell_type": "code",
   "execution_count": null,
   "metadata": {
    "colab": {},
    "colab_type": "code",
    "id": "IiipbDPzYYYu"
   },
   "outputs": [],
   "source": [
    "combined['Count_Author_Title'] = combined['Author'].map(combined.groupby('Author',sort=False)['Title'].apply(lambda x: len(x.unique())).to_dict())"
   ]
  },
  {
   "cell_type": "markdown",
   "metadata": {},
   "source": [
    "**No. of occurences of a Title**\n",
    "<br>\n",
    "**Average:** \n",
    "- Book - Author Count\n",
    "- Title - reviews"
   ]
  },
  {
   "cell_type": "code",
   "execution_count": null,
   "metadata": {
    "colab": {},
    "colab_type": "code",
    "id": "6qrdpTPxw6B-"
   },
   "outputs": [],
   "source": [
    "combined['MEAN_Title_Authors_count'] = round(combined\n",
    "                                            .groupby('Title',sort=False)['Authors_count']\n",
    "                                            .transform('mean'), 2)\n",
    "\n",
    "combined['MEAN_Ttle_Reviews'] = round(combined\n",
    "                                      .groupby('Title',sort=False)['Reviews']\n",
    "                                      .transform('mean'), 2)\n",
    "\n",
    "combined['Title_count'] = combined.groupby('Title',sort=False)['Title']\\\n",
    "                                  .transform('count')"
   ]
  },
  {
   "cell_type": "markdown",
   "metadata": {},
   "source": [
    "**Various Categories of a book**"
   ]
  },
  {
   "cell_type": "code",
   "execution_count": null,
   "metadata": {
    "colab": {},
    "colab_type": "code",
    "id": "fufLh4IlLPUs"
   },
   "outputs": [],
   "source": [
    "title_cat_dict = combined[combined.Authors_count == 1]\\\n",
    "                 .groupby('Title',sort=False)['BookCategory']\\\n",
    "                 .apply(lambda x: ', '.join(x)).to_dict()\n",
    "combined['TitleCategories'] = combined['Title'].map(title_cat_dict)\n",
    "combined['TitleCategories'] = combined[['BookCategory','TitleCategories']]\\\n",
    "                              .apply(lambda x: (x[0] if pd.isna(x[1]) else x[1]),axis=1)"
   ]
  },
  {
   "cell_type": "markdown",
   "metadata": {},
   "source": [
    "**Various Genres of a book**"
   ]
  },
  {
   "cell_type": "code",
   "execution_count": null,
   "metadata": {
    "colab": {},
    "colab_type": "code",
    "id": "efxgzCG5LvC4"
   },
   "outputs": [],
   "source": [
    "title_genre_dict = combined[combined.Authors_count == 1]\\\n",
    "                   .groupby('Title',sort=False)['Genre']\\\n",
    "                   .apply(lambda x: ', '.join(x)).to_dict()\n",
    "combined['TitleGenres'] = combined['Title'].map(title_genre_dict)\n",
    "combined['TitleGenres'] = combined[['Genre', 'TitleGenres']]\\\n",
    "                          .apply(lambda x: (x[0] if pd.isna(x[1]) else x[1]), axis=1)"
   ]
  },
  {
   "cell_type": "markdown",
   "metadata": {},
   "source": [
    "**Various Category books written by an author**"
   ]
  },
  {
   "cell_type": "code",
   "execution_count": null,
   "metadata": {
    "colab": {},
    "colab_type": "code",
    "id": "wHso5ZYzr0Fy"
   },
   "outputs": [],
   "source": [
    "author_cat_dict = combined[combined.Authors_count==1]\\\n",
    "                 .groupby('Author',sort=False)['BookCategory']\\\n",
    "                 .apply(lambda x: ', '.join(x)).to_dict()\n",
    "combined['AuthorCategories'] = combined['Author'].map(author_cat_dict)\n",
    "combined['AuthorCategories'] = combined[['BookCategory','AuthorCategories']]\\\n",
    "                               .apply(lambda x: x[0] if pd.isna(x[1]) else x[1],axis=1)"
   ]
  },
  {
   "cell_type": "markdown",
   "metadata": {},
   "source": [
    "**Various Genre books written by an author**"
   ]
  },
  {
   "cell_type": "code",
   "execution_count": null,
   "metadata": {
    "colab": {},
    "colab_type": "code",
    "id": "l3Ph-kzNv1FS"
   },
   "outputs": [],
   "source": [
    "author_genre_dict = combined[combined.Authors_count==1]\\\n",
    "                    .groupby('Author',sort=False)['Genre']\\\n",
    "                    .apply(lambda x: ', '.join(x)).to_dict()\n",
    "combined['AuthorGenres'] = combined['Author'].map(author_genre_dict)\n",
    "combined['AuthorGenres'] = combined[['Genre','AuthorGenres']]\\\n",
    "                           .apply(lambda x: x[0] if pd.isna(x[1]) else x[1],axis=1)"
   ]
  },
  {
   "cell_type": "code",
   "execution_count": null,
   "metadata": {
    "colab": {},
    "colab_type": "code",
    "id": "vy8HS_amN5KX"
   },
   "outputs": [],
   "source": [
    "combined['TitleGenres'] = combined['TitleGenres'].str.replace(' & ',', ')\n",
    "combined['AuthorGenres'] = combined['AuthorGenres'].str.replace(' & ',', ')\n",
    "combined['Genre'] = combined['Genre'].str.replace(' & ',', ')"
   ]
  },
  {
   "cell_type": "markdown",
   "metadata": {},
   "source": [
    "**Binning Edition Year ** - *by distribution over years*"
   ]
  },
  {
   "cell_type": "code",
   "execution_count": null,
   "metadata": {
    "colab": {},
    "colab_type": "code",
    "id": "SmCPlrbHZsD2"
   },
   "outputs": [],
   "source": [
    "combined['EditionYearBin'] = pd.qcut(combined['EditionYear'],5,labels=False)"
   ]
  },
  {
   "cell_type": "code",
   "execution_count": null,
   "metadata": {},
   "outputs": [],
   "source": [
    "combined.head()"
   ]
  },
  {
   "cell_type": "markdown",
   "metadata": {
    "colab_type": "text",
    "id": "7MI7ptBpg9ut"
   },
   "source": [
    "## Dummy & Count Encoding"
   ]
  },
  {
   "cell_type": "code",
   "execution_count": null,
   "metadata": {},
   "outputs": [],
   "source": []
  },
  {
   "cell_type": "code",
   "execution_count": null,
   "metadata": {
    "colab": {},
    "colab_type": "code",
    "id": "w9aayl0-783A"
   },
   "outputs": [],
   "source": [
    "from sklearn.preprocessing import LabelEncoder\n",
    "enc = LabelEncoder()\n",
    "combined[['BookCategory','EditionBinding','EditionMon','EditionType','EditionYearBin',\\\n",
    "          'Mon_null','Year_null',]] = combined[['BookCategory','EditionBinding','EditionMon',\\\n",
    "    'EditionType','EditionYearBin','Mon_null','Year_null',]].apply(enc.fit_transform)"
   ]
  },
  {
   "cell_type": "code",
   "execution_count": null,
   "metadata": {},
   "outputs": [],
   "source": [
    "combined.head(2)"
   ]
  },
  {
   "cell_type": "code",
   "execution_count": null,
   "metadata": {
    "colab": {},
    "colab_type": "code",
    "id": "AHHzfO0mMX9z"
   },
   "outputs": [],
   "source": [
    "from sklearn.feature_extraction.text import CountVectorizer\n",
    "\n",
    "tc_vectorizer = CountVectorizer(lowercase=True, tokenizer=lambda x: \\\n",
    "                                 x.split(', '))\n",
    "title_categories_vector = tc_vectorizer.fit_transform(combined['TitleCategories']).toarray()\n",
    "data_title_categories = pd.DataFrame(data=title_categories_vector,\n",
    "                      columns=tc_vectorizer.get_feature_names())"
   ]
  },
  {
   "cell_type": "code",
   "execution_count": null,
   "metadata": {
    "colab": {},
    "colab_type": "code",
    "id": "ZUPMuYwIuQHM"
   },
   "outputs": [],
   "source": [
    "ac_vectorizer = CountVectorizer(lowercase=True, \n",
    "                                 tokenizer=lambda x: x.split(', '))\n",
    "author_categories_vector = ac_vectorizer.fit_transform(combined['AuthorCategories']).toarray()\n",
    "data_author_categories = pd.DataFrame(data=author_categories_vector,\n",
    "                      columns=ac_vectorizer.get_feature_names())"
   ]
  },
  {
   "cell_type": "code",
   "execution_count": null,
   "metadata": {
    "colab": {},
    "colab_type": "code",
    "id": "8b1zSmCZMj6a"
   },
   "outputs": [],
   "source": [
    "tg_vectorizer = CountVectorizer(max_features=10, lowercase=True,\n",
    "                                tokenizer=lambda x: x.split(', '))\n",
    "title_genres_vector = tg_vectorizer.fit_transform(combined['TitleGenres']).toarray()\n",
    "data_title_genres = pd.DataFrame(data=title_genres_vector,\n",
    "                     columns=tg_vectorizer.get_feature_names())"
   ]
  },
  {
   "cell_type": "code",
   "execution_count": null,
   "metadata": {
    "colab": {},
    "colab_type": "code",
    "id": "rWjmc8-CwSxl"
   },
   "outputs": [],
   "source": [
    "ag_vectorizer = CountVectorizer(max_features=10, lowercase=True,\n",
    "                                    tokenizer=lambda x: x.split(', '))\n",
    "author_genres_vector = ag_vectorizer.fit_transform(combined['AuthorGenres']).toarray()\n",
    "data_author_genres = pd.DataFrame(data=author_genres_vector,\n",
    "                         columns=ag_vectorizer.get_feature_names())"
   ]
  },
  {
   "cell_type": "code",
   "execution_count": null,
   "metadata": {
    "colab": {},
    "colab_type": "code",
    "id": "IcRp_bzdRgRi"
   },
   "outputs": [],
   "source": [
    "title_vectorizer = CountVectorizer(max_features=10, lowercase=True)\n",
    "title_vector = title_vectorizer.fit_transform(combined['Title']).toarray()\n",
    "data_title = pd.DataFrame(data=title_vector,\n",
    "                        columns=title_vectorizer.get_feature_names())"
   ]
  },
  {
   "cell_type": "code",
   "execution_count": null,
   "metadata": {
    "colab": {},
    "colab_type": "code",
    "id": "V7-pX_TF4igc"
   },
   "outputs": [],
   "source": [
    "vectorizer_author = CountVectorizer(max_features=10, lowercase=True,\n",
    "                                    tokenizer=lambda x: x.split(', '))\n",
    "vector_author = vectorizer_author.fit_transform(combined['Author']).toarray()\n",
    "data_author = pd.DataFrame(data=vector_author,\n",
    "                         columns=vectorizer_author.get_feature_names())"
   ]
  },
  {
   "cell_type": "code",
   "execution_count": null,
   "metadata": {
    "colab": {},
    "colab_type": "code",
    "id": "681mOJMW4ySX"
   },
   "outputs": [],
   "source": [
    "vectorizer_genre = CountVectorizer(max_features=10,\n",
    "                                   lowercase=True, tokenizer=lambda x: x.split(', '))\n",
    "vector_genre = vectorizer_genre.fit_transform(combined['Genre']).toarray()\n",
    "data_genre = pd.DataFrame(data=vector_genre,\n",
    "                        columns=vectorizer_genre.get_feature_names())"
   ]
  },
  {
   "cell_type": "code",
   "execution_count": null,
   "metadata": {
    "colab": {},
    "colab_type": "code",
    "id": "zZGeyBueus6C"
   },
   "outputs": [],
   "source": [
    "vectorizer_synopsis = CountVectorizer(max_features=10,\n",
    "                                      stop_words='english', \n",
    "                                      strip_accents='ascii', \n",
    "                                      lowercase=True)\n",
    "vector_synopsis = vectorizer_synopsis.fit_transform(combined['Synopsis']).toarray()\n",
    "data_synopsis = pd.DataFrame(data=vector_synopsis,\n",
    "                           columns=vectorizer_synopsis.get_feature_names())"
   ]
  },
  {
   "cell_type": "code",
   "execution_count": null,
   "metadata": {
    "colab": {},
    "colab_type": "code",
    "id": "_YZZKYgYUebN"
   },
   "outputs": [],
   "source": [
    "combined.drop(columns=[\n",
    "    'Title',\n",
    "    'Author',\n",
    "    'Genre',\n",
    "    'Synopsis',\n",
    "    'Edition',\n",
    "    'EditionDate',\n",
    "    'EditionType1',\n",
    "    'AuthorCategories',\n",
    "    'AuthorGenres',\n",
    "    'TitleGenres',\n",
    "    'TitleCategories'\n",
    "    ], inplace=True)"
   ]
  },
  {
   "cell_type": "code",
   "execution_count": null,
   "metadata": {
    "cellView": "form",
    "colab": {
     "base_uri": "https://localhost:8080/",
     "height": 33
    },
    "colab_type": "code",
    "executionInfo": {
     "elapsed": 14114,
     "status": "ok",
     "timestamp": 1572169257989,
     "user": {
      "displayName": "Himanshu Saini",
      "photoUrl": "https://lh3.googleusercontent.com/a-/AAuE7mAjE9mZ2NzcI5uuLrEuZ1SNzd5Vp87FTCFGA5aYcwg=s64",
      "userId": "08483872662102224854"
     },
     "user_tz": -330
    },
    "id": "t9Y_b7SMo0Rm",
    "outputId": "4930360b-9fa9-471f-f7e4-5c7a4bf86ea3"
   },
   "outputs": [],
   "source": [
    "print('No. of Features:',combined.shape[1])"
   ]
  },
  {
   "cell_type": "markdown",
   "metadata": {
    "colab_type": "text",
    "id": "8AiXVa6a2a9W"
   },
   "source": [
    "**Feature correlations**"
   ]
  },
  {
   "cell_type": "code",
   "execution_count": null,
   "metadata": {
    "colab": {},
    "colab_type": "code",
    "id": "yO8RlluBSdq2"
   },
   "outputs": [],
   "source": [
    "data = pd.concat([\n",
    "    combined,# dummy encoded features\n",
    "    data_author, # author count encoded\n",
    "    data_genre, # genre count encoded\n",
    "    data_title, # title count encoded\n",
    "    data_synopsis, # synopsis count encoded\n",
    "   data_author_genres, # author_genres count encoded\n",
    "   data_title_genres, # title_genres count encoded\n",
    "    data_author_categories, # author_categories count encoded\n",
    "    data_title_categories, # title_categories count encoded\n",
    "    ], axis=1)\n",
    "data.reset_index(drop=True, inplace=True)"
   ]
  },
  {
   "cell_type": "code",
   "execution_count": null,
   "metadata": {
    "cellView": "both",
    "colab": {},
    "colab_type": "code",
    "id": "lLpRm9y7ALwN"
   },
   "outputs": [],
   "source": [
    "#feature correlations\n",
    "corr = data.corr()\n",
    "corr[corr.Price>0.01].Price.sort_values()"
   ]
  },
  {
   "cell_type": "code",
   "execution_count": null,
   "metadata": {
    "cellView": "form",
    "colab": {
     "base_uri": "https://localhost:8080/",
     "height": 33
    },
    "colab_type": "code",
    "executionInfo": {
     "elapsed": 53499,
     "status": "ok",
     "timestamp": 1572169297753,
     "user": {
      "displayName": "Himanshu Saini",
      "photoUrl": "https://lh3.googleusercontent.com/a-/AAuE7mAjE9mZ2NzcI5uuLrEuZ1SNzd5Vp87FTCFGA5aYcwg=s64",
      "userId": "08483872662102224854"
     },
     "user_tz": -330
    },
    "id": "1TnmutiziCCe",
    "outputId": "cdccd6b1-adb6-454c-b534-2f042ef2e9c3"
   },
   "outputs": [],
   "source": [
    "data.shape  #  features count"
   ]
  },
  {
   "cell_type": "code",
   "execution_count": null,
   "metadata": {
    "scrolled": true
   },
   "outputs": [],
   "source": [
    "data.head()"
   ]
  },
  {
   "cell_type": "code",
   "execution_count": null,
   "metadata": {},
   "outputs": [],
   "source": [
    "print(data.info());"
   ]
  },
  {
   "cell_type": "markdown",
   "metadata": {
    "colab_type": "text",
    "id": "4hDbFdj_Q4s2"
   },
   "source": [
    "# Train - Test Split"
   ]
  },
  {
   "cell_type": "code",
   "execution_count": null,
   "metadata": {
    "colab": {},
    "colab_type": "code",
    "id": "U7XfzZocP1jD"
   },
   "outputs": [],
   "source": [
    "train = data[data['Price'].notna()]\n",
    "test = data[data['Price'].isna()]\n",
    "test.drop(['Price'], axis=1, inplace=True)"
   ]
  },
  {
   "cell_type": "code",
   "execution_count": null,
   "metadata": {
    "colab": {},
    "colab_type": "code",
    "id": "A8FGafyv9odJ"
   },
   "outputs": [],
   "source": [
    "X = train.loc[:, train.columns != 'Price'].values\n",
    "X = X.astype(float)\n",
    "\n",
    "# Dependent Variable\n",
    "\n",
    "y = np.log1p(train['Price'].values)\n",
    "y = y.astype(float)\n",
    "\n",
    "# Test - (Independent Variables)\n",
    "\n",
    "test = test.loc[:].values\n",
    "test = test.astype(float)"
   ]
  },
  {
   "cell_type": "markdown",
   "metadata": {
    "colab_type": "text",
    "id": "A0y90v4wQyHW"
   },
   "source": [
    "# Model Training"
   ]
  },
  {
   "cell_type": "markdown",
   "metadata": {
    "colab_type": "text",
    "id": "bqTVmai72yAI"
   },
   "source": [
    "**Importing libraries**"
   ]
  },
  {
   "cell_type": "code",
   "execution_count": null,
   "metadata": {
    "cellView": "both",
    "colab": {},
    "colab_type": "code",
    "id": "5eR9PA0Z6ypx"
   },
   "outputs": [],
   "source": [
    "import xgboost as xgb\n",
    "#import lightgbm as lgb\n",
    "from sklearn.metrics import make_scorer\n",
    "from xgboost.sklearn import XGBRegressor\n",
    "from sklearn.model_selection import cross_val_score, GridSearchCV, RandomizedSearchCV\n",
    "from sklearn.ensemble import RandomForestRegressor, VotingRegressor, AdaBoostRegressor"
   ]
  },
  {
   "cell_type": "markdown",
   "metadata": {
    "colab_type": "text",
    "id": "x-lgXrPD22-d"
   },
   "source": [
    "**RMLSE scoring func**"
   ]
  },
  {
   "cell_type": "code",
   "execution_count": null,
   "metadata": {
    "cellView": "both",
    "colab": {},
    "colab_type": "code",
    "id": "Yegq84FX-R5x"
   },
   "outputs": [],
   "source": [
    "def score(y_true, y_pred):\n",
    "    y_pred = np.exp(y_pred) - 1\n",
    "    for i in range(len(y_pred)):\n",
    "        if y_pred[i] < 0:\n",
    "            y_pred[i] = 0\n",
    "    y_true = np.exp(y_true) - 1\n",
    "    error = np.square(np.log10(y_pred + 1) - np.log10(y_true\n",
    "                      + 1)).mean() ** 0.5\n",
    "    score = 1 - error\n",
    "    return score"
   ]
  },
  {
   "cell_type": "markdown",
   "metadata": {
    "colab_type": "text",
    "id": "0TQKT6ISkcI3"
   },
   "source": [
    "#### RandomForestRegressor"
   ]
  },
  {
   "cell_type": "code",
   "execution_count": null,
   "metadata": {
    "colab": {},
    "colab_type": "code",
    "id": "24pRhEz07KOw"
   },
   "outputs": [],
   "source": [
    "from sklearn.model_selection import RandomizedSearchCV\n",
    "params = { 'random_state':range(0,4),\n",
    "           'n_estimators':np.arange(10,100,10),\n",
    "           'max_depth':np.arange(5,30,5),\n",
    "           'max_features':['sqrt']\n",
    "         }\n",
    "rf = RandomizedSearchCV(RandomForestRegressor(),params,scoring=make_scorer(score,greater_is_better=True))\n",
    "rf.fit(X,y)\n",
    "rf.best_score_\n",
    "#rf = RandomForestRegressor(random_state=0,n_estimators=150,max_features='sqrt')\n",
    "#cvs = cross_val_score(rf, X, y, cv=5,verbose=2,n_jobs=-1,\n",
    "#                      scoring=make_scorer(score,greater_is_better=True))\n",
    "#print(\"Average Score:\",np.mean(cvs))"
   ]
  },
  {
   "cell_type": "code",
   "execution_count": null,
   "metadata": {},
   "outputs": [],
   "source": [
    "rf.best_params_"
   ]
  },
  {
   "cell_type": "markdown",
   "metadata": {},
   "source": [
    "# SVR"
   ]
  },
  {
   "cell_type": "code",
   "execution_count": null,
   "metadata": {},
   "outputs": [],
   "source": [
    "from sklearn.svm import SVR\n",
    "svr = SVR(kernel='rbf',gamma=0.003,C=1)\n",
    "\n",
    "cvs = cross_val_score(svr, X, y, cv=5,verbose=2,n_jobs=-1,\n",
    "                      scoring=make_scorer(score,greater_is_better=True))\n",
    "print(\"Average Score:\",np.mean(cvs))\n",
    "# Not working with SVR"
   ]
  },
  {
   "cell_type": "code",
   "execution_count": null,
   "metadata": {},
   "outputs": [],
   "source": [
    "rf1 = RandomForestRegressor(random_state=3,\n",
    " n_estimators=80,\n",
    " max_features='sqrt',       \n",
    " max_depth=30)\n",
    "\n",
    "cvs = cross_val_score(rf1, X, y, cv=5,verbose=2,n_jobs=-1,\n",
    "                      scoring=make_scorer(score,greater_is_better=True))\n",
    "print(\"Average Score:\",np.mean(cvs))"
   ]
  },
  {
   "cell_type": "code",
   "execution_count": null,
   "metadata": {},
   "outputs": [],
   "source": [
    "rf1.fit(X,y)\n",
    "pd.DataFrame(rf1.feature_importances_).sort_values(0,ascending=False)"
   ]
  },
  {
   "cell_type": "markdown",
   "metadata": {
    "colab_type": "text",
    "id": "NvWKNypckgwF"
   },
   "source": [
    "#### LGBMRegressor"
   ]
  },
  {
   "cell_type": "code",
   "execution_count": null,
   "metadata": {
    "colab": {
     "base_uri": "https://localhost:8080/",
     "height": 66
    },
    "colab_type": "code",
    "executionInfo": {
     "elapsed": 43354,
     "status": "ok",
     "timestamp": 1572169363663,
     "user": {
      "displayName": "Himanshu Saini",
      "photoUrl": "https://lh3.googleusercontent.com/a-/AAuE7mAjE9mZ2NzcI5uuLrEuZ1SNzd5Vp87FTCFGA5aYcwg=s64",
      "userId": "08483872662102224854"
     },
     "user_tz": -330
    },
    "id": "MxeGOiqbDkt1",
    "outputId": "b9ba5d2b-9561-4633-d8d7-eb89cef2d196"
   },
   "outputs": [],
   "source": [
    "lgbm = lgb.LGBMRegressor()\n",
    "\n",
    "params = { 'random_state':range(0,4),\n",
    "           'n_estimators':np.arange(10,100,10),\n",
    "           'max_depth':np.arange(5,30,5),\n",
    "           'max_features':['sqrt']\n",
    "         }\n",
    "lgbm = RandomizedSearchCV(lgbm,params,scoring=make_scorer(score,greater_is_better=True))\n",
    "lgbm.fit(X,y)\n",
    "print(lgbm.best_params_)\n",
    "print(lgbm.best_score_)\n",
    "\n",
    "#cvs = cross_val_score(lgbm, X, y, cv=5,verbose=2,n_jobs=-1,\n",
    "#                      scoring=make_scorer(score,greater_is_better=True))\n",
    "#print(\"Average Score:\",np.mean(cvs))"
   ]
  },
  {
   "cell_type": "markdown",
   "metadata": {
    "colab_type": "text",
    "id": "KXOW8zLhkZEK"
   },
   "source": [
    "#### XGBRegressor"
   ]
  },
  {
   "cell_type": "code",
   "execution_count": null,
   "metadata": {
    "colab": {},
    "colab_type": "code",
    "id": "AoBJpXBCmlAq"
   },
   "outputs": [],
   "source": [
    "xgb = XGBRegressor( )\n",
    "\n",
    "params = { 'random_state':range(0,4),\n",
    "           'n_estimators':np.arange(10,100,10),\n",
    "           'max_depth':np.arange(5,30,5),\n",
    "           'max_features':['sqrt'],\n",
    "          'colsample_bytree' : [0.6], \n",
    "           'objective':['reg:squarederror'],\n",
    "          'learning_rate' : [0.1,0.2,0.05], \n",
    "          'max_depth' : [5,10,15,30], \n",
    "          'alpha' : [10]\n",
    "         }\n",
    "xgb = RandomizedSearchCV(xgb,params,scoring=make_scorer(score,greater_is_better=True))\n",
    "xgb.fit(X,y)\n",
    "xgb.best_score_"
   ]
  },
  {
   "cell_type": "markdown",
   "metadata": {
    "colab_type": "text",
    "id": "FSkJZpGskPGs"
   },
   "source": [
    "#### VotingRegressor"
   ]
  },
  {
   "cell_type": "code",
   "execution_count": null,
   "metadata": {
    "colab": {},
    "colab_type": "code",
    "id": "d-GYzZcyH6_3"
   },
   "outputs": [],
   "source": [
    "vr = VotingRegressor([('rf', rf), ('xgb', xgb)])\n",
    "\n",
    "cvs = cross_val_score(vr, X, y, cv=5,verbose=50,n_jobs=-1,\n",
    "                        scoring=make_scorer(score,greater_is_better=True))\n",
    "print(\"Average Score:\",np.mean(cvs))"
   ]
  },
  {
   "cell_type": "markdown",
   "metadata": {
    "colab_type": "text",
    "id": "2M9BlzTPRNEY"
   },
   "source": [
    "# Exporting Predictions"
   ]
  },
  {
   "cell_type": "code",
   "execution_count": null,
   "metadata": {
    "colab": {},
    "colab_type": "code",
    "id": "LBUmwjbrZegx"
   },
   "outputs": [],
   "source": [
    "vr.fit(X, y)\n",
    "Y_pred2 = vr.predict(test)\n",
    "Y_pred2 = np.exp(Y_pred2)-1\n",
    "\n",
    "for i in range(len(Y_pred2)):\n",
    "       if Y_pred2[i] < 0:\n",
    "            Y_pred2[i] = 0\n",
    "\n",
    "pd.DataFrame(Y_pred2, columns = ['Price']).to_excel(\"predictions.xlsx\", index=False)"
   ]
  },
  {
   "cell_type": "markdown",
   "metadata": {},
   "source": [
    "# Tips"
   ]
  },
  {
   "cell_type": "code",
   "execution_count": null,
   "metadata": {},
   "outputs": [],
   "source": [
    "# Reduce countvectorization columns by using selectpercentile\n",
    "from sklearn.feature_selection import SelectPercentile, f_classif\n",
    "selector = SelectPercentile(f_classif, percentile=10)"
   ]
  },
  {
   "cell_type": "raw",
   "metadata": {},
   "source": [
    "Reviews and Ratings seperately rather than combining them.\n",
    "\n",
    "also, we could by trust_factor  review > 3.0 and ratings < 100  : 1\n",
    "also, we could by trust_factor  review > 3.0 and ratings > 100   < 1000 : 2\n",
    "also, we could by trust_factor  review > 3.0 and ratings > 1000 : 3\n"
   ]
  },
  {
   "cell_type": "code",
   "execution_count": null,
   "metadata": {},
   "outputs": [],
   "source": [
    "stacking of the models.\n",
    "Data Leaks"
   ]
  },
  {
   "cell_type": "code",
   "execution_count": null,
   "metadata": {},
   "outputs": [],
   "source": []
  },
  {
   "cell_type": "code",
   "execution_count": null,
   "metadata": {},
   "outputs": [],
   "source": []
  },
  {
   "cell_type": "code",
   "execution_count": null,
   "metadata": {},
   "outputs": [],
   "source": []
  }
 ],
 "metadata": {
  "colab": {
   "collapsed_sections": [],
   "machine_shape": "hm",
   "name": "v4_books_price_prediction.ipynb",
   "provenance": [
    {
     "file_id": "1LOfPRU67z-0dbuhXkJ5QNJ73BW5SHBno",
     "timestamp": 1571301541612
    },
    {
     "file_id": "17XQaUuUxuV1hcp5RlTYomaKWD3AwqTWK",
     "timestamp": 1570513455609
    },
    {
     "file_id": "1lEeawygsOAF6cTvCuI702H52K-MxyZtJ",
     "timestamp": 1570078407315
    },
    {
     "file_id": "1HnqrzZT4tHNqDtE8vFwjlQLRfu4GJ-wT",
     "timestamp": 1569931064567
    }
   ]
  },
  "kernelspec": {
   "display_name": "Python 3",
   "language": "python",
   "name": "python3"
  },
  "language_info": {
   "codemirror_mode": {
    "name": "ipython",
    "version": 3
   },
   "file_extension": ".py",
   "mimetype": "text/x-python",
   "name": "python",
   "nbconvert_exporter": "python",
   "pygments_lexer": "ipython3",
   "version": "3.7.3"
  }
 },
 "nbformat": 4,
 "nbformat_minor": 1
}
